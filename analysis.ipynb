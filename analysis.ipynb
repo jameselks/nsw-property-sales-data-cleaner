{
 "cells": [
  {
   "cell_type": "code",
   "execution_count": null,
   "source": [
    "import numpy as np\r\n",
    "import pandas as pd\r\n",
    "from scipy import stats\r\n",
    "import matplotlib.pyplot as plt\r\n",
    "import plotly.express as px\r\n",
    "import statistics\r\n",
    "from datetime import datetime\r\n",
    "from datetime import date"
   ],
   "outputs": [],
   "metadata": {}
  },
  {
   "cell_type": "code",
   "execution_count": null,
   "source": [
    "#Read the data into a data frame\r\n",
    "df = pd.read_csv(\"extract-3-very-clean.csv\")"
   ],
   "outputs": [],
   "metadata": {}
  },
  {
   "cell_type": "code",
   "execution_count": 218,
   "source": [
    "#See how many records are included\r\n",
    "df.size"
   ],
   "outputs": [
    {
     "output_type": "execute_result",
     "data": {
      "text/plain": [
       "24256512"
      ]
     },
     "metadata": {},
     "execution_count": 218
    }
   ],
   "metadata": {}
  },
  {
   "cell_type": "code",
   "execution_count": 219,
   "source": [
    "#Change date fields to datetime type\r\n",
    "df['Contract date']= pd.to_datetime(df['Contract date'])\r\n",
    "df['Settlement date']= pd.to_datetime(df['Settlement date'])\r\n",
    "\r\n",
    "#Then check types are okay\r\n",
    "df.dtypes"
   ],
   "outputs": [
    {
     "output_type": "execute_result",
     "data": {
      "text/plain": [
       "Unnamed: 0                        int64\n",
       "Property ID                     float64\n",
       "Download date / time             object\n",
       "Property name                    object\n",
       "Property unit number             object\n",
       "Property house number            object\n",
       "Property street name             object\n",
       "Property locality                object\n",
       "Property post code              float64\n",
       "Area                            float64\n",
       "Contract date            datetime64[ns]\n",
       "Settlement date          datetime64[ns]\n",
       "Purchase price                    int64\n",
       "Zoning                           object\n",
       "Primary purpose                  object\n",
       "Strata lot number               float64\n",
       "dtype: object"
      ]
     },
     "metadata": {},
     "execution_count": 219
    }
   ],
   "metadata": {}
  },
  {
   "cell_type": "code",
   "execution_count": 241,
   "source": [
    "#Filter the dataset to your own search area\r\n",
    "#(could obvs filter by whatever, but this is my search area)\r\n",
    "\r\n",
    "property_locations = ['Lawson','Hazelbrook','Woodford','Linden','Faulconbridge','Springwood','Valley Heights','Warrimoo']\r\n",
    "exclude_zoning = ['IN1', 'IN2', 'I', 'B', 'B1', 'B2', 'B7']\r\n",
    "exclude_primary_purpose = ['Service stations', 'Service stati', 'Service statio', 'Shop', 'Hall']\r\n",
    "postcode_min = 2750\r\n",
    "postcode_max = 2800\r\n",
    "area_min = 500\r\n",
    "area_max = None\r\n",
    "start_date = '2015-01-01'\r\n",
    "end_date = '2100-01-01'\r\n",
    "\r\n",
    "#Go ahead and implement all of the above filters\r\n",
    "df_myarea = df\r\n",
    "if property_locations: df_myarea = df_myarea[ df_myarea['Property locality'].isin(property_locations) ] #In location specified\r\n",
    "if area_min: df_myarea = df_myarea[ df_myarea['Area'] >= area_min ] #More than minimum area size\r\n",
    "if area_max: df_myarea = df_myarea[ df_myarea['Area'] <= area_max ] #Less than maximum area size\r\n",
    "if postcode_min: df_myarea = df_myarea[ df_myarea['Property post code'] >= postcode_min ] #In postcode range\r\n",
    "if postcode_max: df_myarea = df_myarea[ df_myarea['Property post code'] <= postcode_max ] #In postcode range\r\n",
    "if exclude_zoning: df_myarea = df_myarea[ ~df_myarea['Zoning'].isin(exclude_zoning) ] #Exclude weird zoning types\r\n",
    "if start_date: df_myarea = df_myarea[ df_myarea['Contract date'] >= start_date] #Make sure all values are in the correct date range\r\n",
    "if end_date: df_myarea = df_myarea[ df_myarea['Contract date'] <= end_date] #Make sure all values are in the correct date range\r\n",
    "if exclude_primary_purpose: df_myarea = df_myarea[ ~df_myarea['Primary purpose'].isin(exclude_primary_purpose) ] #Exclude weird zoning types\r\n",
    "#df_myarea = df_myarea[ df_myarea['Primary purpose'] == 'Vacant land' ]\r\n",
    "\r\n",
    "print(str(len(df_myarea.index)) + ' records kept')"
   ],
   "outputs": [
    {
     "output_type": "stream",
     "name": "stdout",
     "text": [
      "3000 records kept\n"
     ]
    }
   ],
   "metadata": {}
  },
  {
   "cell_type": "code",
   "execution_count": 244,
   "source": [
    "#Show zoning and purpose types in the dataset\r\n",
    "#Types: https://www.valuergeneral.nsw.gov.au/__data/assets/pdf_file/0019/216406/Property_Sales_Data_File_Zone_Codes_and_Descriptions_V2.pdf\r\n",
    "\r\n",
    "display(df_myarea['Primary purpose'].unique())\r\n",
    "display(df_myarea['Zoning'].unique())"
   ],
   "outputs": [
    {
     "output_type": "display_data",
     "data": {
      "text/plain": [
       "array(['Residence', 'Vacant land', 'Commercial'], dtype=object)"
      ]
     },
     "metadata": {}
    },
    {
     "output_type": "display_data",
     "data": {
      "text/plain": [
       "array(['A', nan, 'R', 'R2', 'E4', 'E3', 'R3', 'E2'], dtype=object)"
      ]
     },
     "metadata": {}
    }
   ],
   "metadata": {}
  },
  {
   "cell_type": "code",
   "execution_count": 238,
   "source": [
    "#Fix NaNs\r\n",
    "\r\n",
    "nans = str(df_myarea['Zoning'].isna().sum()) #See how many NaNs\r\n",
    "df_myarea['Zoning'].fillna(value='None', inplace=True) #Change NaNs to 'None'\r\n",
    "print('Fixed ' + nans + ' NaNs.') #Print the results"
   ],
   "outputs": [
    {
     "output_type": "stream",
     "name": "stdout",
     "text": [
      "Fixed 54 NaNs.\n"
     ]
    }
   ],
   "metadata": {}
  },
  {
   "cell_type": "code",
   "execution_count": 239,
   "source": [
    "#Remove purchase price outliers\r\n",
    "\r\n",
    "before=len(df_myarea.index)\r\n",
    "display(df_myarea[(np.abs(stats.zscore(df_myarea['Purchase price'])) >= 2)])\r\n",
    "df_myarea = df_myarea[(np.abs(stats.zscore(df_myarea['Purchase price'])) < 2)]\r\n",
    "after=len(df_myarea.index)\r\n",
    "print('Removed ' + str(before-after) + ' outliers (more than 2 standard deviations from the mean).')"
   ],
   "outputs": [
    {
     "output_type": "display_data",
     "data": {
      "text/html": [
       "<div>\n",
       "<style scoped>\n",
       "    .dataframe tbody tr th:only-of-type {\n",
       "        vertical-align: middle;\n",
       "    }\n",
       "\n",
       "    .dataframe tbody tr th {\n",
       "        vertical-align: top;\n",
       "    }\n",
       "\n",
       "    .dataframe thead th {\n",
       "        text-align: right;\n",
       "    }\n",
       "</style>\n",
       "<table border=\"1\" class=\"dataframe\">\n",
       "  <thead>\n",
       "    <tr style=\"text-align: right;\">\n",
       "      <th></th>\n",
       "      <th>Unnamed: 0</th>\n",
       "      <th>Property ID</th>\n",
       "      <th>Download date / time</th>\n",
       "      <th>Property name</th>\n",
       "      <th>Property unit number</th>\n",
       "      <th>Property house number</th>\n",
       "      <th>Property street name</th>\n",
       "      <th>Property locality</th>\n",
       "      <th>Property post code</th>\n",
       "      <th>Area</th>\n",
       "      <th>Contract date</th>\n",
       "      <th>Settlement date</th>\n",
       "      <th>Purchase price</th>\n",
       "      <th>Zoning</th>\n",
       "      <th>Primary purpose</th>\n",
       "      <th>Strata lot number</th>\n",
       "    </tr>\n",
       "  </thead>\n",
       "  <tbody>\n",
       "    <tr>\n",
       "      <th>358492</th>\n",
       "      <td>358492</td>\n",
       "      <td>2251113.0</td>\n",
       "      <td>20160808 01:07</td>\n",
       "      <td>NaN</td>\n",
       "      <td>NaN</td>\n",
       "      <td>51</td>\n",
       "      <td>Summer Rd</td>\n",
       "      <td>Faulconbridge</td>\n",
       "      <td>2776.0</td>\n",
       "      <td>55100.0</td>\n",
       "      <td>2016-05-02</td>\n",
       "      <td>2016-08-02</td>\n",
       "      <td>2650000</td>\n",
       "      <td>E4</td>\n",
       "      <td>Residence</td>\n",
       "      <td>NaN</td>\n",
       "    </tr>\n",
       "    <tr>\n",
       "      <th>477643</th>\n",
       "      <td>477643</td>\n",
       "      <td>3674142.0</td>\n",
       "      <td>20170123 01:07</td>\n",
       "      <td>NaN</td>\n",
       "      <td>NaN</td>\n",
       "      <td>310</td>\n",
       "      <td>Great Western Hwy</td>\n",
       "      <td>Lawson</td>\n",
       "      <td>2783.0</td>\n",
       "      <td>1842.0</td>\n",
       "      <td>2016-07-10</td>\n",
       "      <td>2016-08-08</td>\n",
       "      <td>25375000</td>\n",
       "      <td>R2</td>\n",
       "      <td>Service stati</td>\n",
       "      <td>NaN</td>\n",
       "    </tr>\n",
       "    <tr>\n",
       "      <th>730271</th>\n",
       "      <td>730271</td>\n",
       "      <td>2277586.0</td>\n",
       "      <td>20180115 01:26</td>\n",
       "      <td>NaN</td>\n",
       "      <td>NaN</td>\n",
       "      <td>24</td>\n",
       "      <td>Old Bathurst Rd</td>\n",
       "      <td>Woodford</td>\n",
       "      <td>2778.0</td>\n",
       "      <td>26180.0</td>\n",
       "      <td>2017-11-20</td>\n",
       "      <td>2017-12-20</td>\n",
       "      <td>1800000</td>\n",
       "      <td>E3</td>\n",
       "      <td>Residence</td>\n",
       "      <td>NaN</td>\n",
       "    </tr>\n",
       "    <tr>\n",
       "      <th>904364</th>\n",
       "      <td>904364</td>\n",
       "      <td>2250299.0</td>\n",
       "      <td>20181119 01:21</td>\n",
       "      <td>NaN</td>\n",
       "      <td>NaN</td>\n",
       "      <td>132</td>\n",
       "      <td>Grose Rd</td>\n",
       "      <td>Faulconbridge</td>\n",
       "      <td>2776.0</td>\n",
       "      <td>103100.0</td>\n",
       "      <td>2018-05-29</td>\n",
       "      <td>2018-08-20</td>\n",
       "      <td>3000000</td>\n",
       "      <td>E4</td>\n",
       "      <td>Commercial</td>\n",
       "      <td>NaN</td>\n",
       "    </tr>\n",
       "    <tr>\n",
       "      <th>1262057</th>\n",
       "      <td>1262057</td>\n",
       "      <td>2269294.0</td>\n",
       "      <td>20200921 01:02</td>\n",
       "      <td>NaN</td>\n",
       "      <td>NaN</td>\n",
       "      <td>170</td>\n",
       "      <td>Paterson Rd</td>\n",
       "      <td>Springwood</td>\n",
       "      <td>2777.0</td>\n",
       "      <td>28750.0</td>\n",
       "      <td>2020-07-31</td>\n",
       "      <td>2020-09-17</td>\n",
       "      <td>1700000</td>\n",
       "      <td>E3</td>\n",
       "      <td>Residence</td>\n",
       "      <td>NaN</td>\n",
       "    </tr>\n",
       "    <tr>\n",
       "      <th>1387757</th>\n",
       "      <td>1387757</td>\n",
       "      <td>2268280.0</td>\n",
       "      <td>20210329 01:02</td>\n",
       "      <td>NaN</td>\n",
       "      <td>NaN</td>\n",
       "      <td>67</td>\n",
       "      <td>Hawkesbury Rd</td>\n",
       "      <td>Springwood</td>\n",
       "      <td>2777.0</td>\n",
       "      <td>3130.0</td>\n",
       "      <td>2021-02-16</td>\n",
       "      <td>2021-03-25</td>\n",
       "      <td>1700000</td>\n",
       "      <td>E4</td>\n",
       "      <td>Residence</td>\n",
       "      <td>NaN</td>\n",
       "    </tr>\n",
       "    <tr>\n",
       "      <th>1443905</th>\n",
       "      <td>1443905</td>\n",
       "      <td>2267532.0</td>\n",
       "      <td>20210614 01:04</td>\n",
       "      <td>NaN</td>\n",
       "      <td>NaN</td>\n",
       "      <td>4</td>\n",
       "      <td>David Rd</td>\n",
       "      <td>Springwood</td>\n",
       "      <td>2777.0</td>\n",
       "      <td>4300.0</td>\n",
       "      <td>2021-02-22</td>\n",
       "      <td>2021-06-09</td>\n",
       "      <td>1900000</td>\n",
       "      <td>E4</td>\n",
       "      <td>Residence</td>\n",
       "      <td>NaN</td>\n",
       "    </tr>\n",
       "    <tr>\n",
       "      <th>1496498</th>\n",
       "      <td>1496498</td>\n",
       "      <td>2250299.0</td>\n",
       "      <td>20210830 01:30</td>\n",
       "      <td>NaN</td>\n",
       "      <td>NaN</td>\n",
       "      <td>132</td>\n",
       "      <td>Grose Rd</td>\n",
       "      <td>Faulconbridge</td>\n",
       "      <td>2776.0</td>\n",
       "      <td>103100.0</td>\n",
       "      <td>2021-06-01</td>\n",
       "      <td>2021-08-20</td>\n",
       "      <td>4600000</td>\n",
       "      <td>E4</td>\n",
       "      <td>Commercial</td>\n",
       "      <td>NaN</td>\n",
       "    </tr>\n",
       "  </tbody>\n",
       "</table>\n",
       "</div>"
      ],
      "text/plain": [
       "         Unnamed: 0  Property ID Download date / time Property name  \\\n",
       "358492       358492    2251113.0       20160808 01:07           NaN   \n",
       "477643       477643    3674142.0       20170123 01:07           NaN   \n",
       "730271       730271    2277586.0       20180115 01:26           NaN   \n",
       "904364       904364    2250299.0       20181119 01:21           NaN   \n",
       "1262057     1262057    2269294.0       20200921 01:02           NaN   \n",
       "1387757     1387757    2268280.0       20210329 01:02           NaN   \n",
       "1443905     1443905    2267532.0       20210614 01:04           NaN   \n",
       "1496498     1496498    2250299.0       20210830 01:30           NaN   \n",
       "\n",
       "        Property unit number Property house number Property street name  \\\n",
       "358492                   NaN                    51            Summer Rd   \n",
       "477643                   NaN                   310    Great Western Hwy   \n",
       "730271                   NaN                    24      Old Bathurst Rd   \n",
       "904364                   NaN                   132             Grose Rd   \n",
       "1262057                  NaN                   170          Paterson Rd   \n",
       "1387757                  NaN                    67        Hawkesbury Rd   \n",
       "1443905                  NaN                     4             David Rd   \n",
       "1496498                  NaN                   132             Grose Rd   \n",
       "\n",
       "        Property locality  Property post code      Area Contract date  \\\n",
       "358492      Faulconbridge              2776.0   55100.0    2016-05-02   \n",
       "477643             Lawson              2783.0    1842.0    2016-07-10   \n",
       "730271           Woodford              2778.0   26180.0    2017-11-20   \n",
       "904364      Faulconbridge              2776.0  103100.0    2018-05-29   \n",
       "1262057        Springwood              2777.0   28750.0    2020-07-31   \n",
       "1387757        Springwood              2777.0    3130.0    2021-02-16   \n",
       "1443905        Springwood              2777.0    4300.0    2021-02-22   \n",
       "1496498     Faulconbridge              2776.0  103100.0    2021-06-01   \n",
       "\n",
       "        Settlement date  Purchase price Zoning Primary purpose  \\\n",
       "358492       2016-08-02         2650000     E4       Residence   \n",
       "477643       2016-08-08        25375000     R2   Service stati   \n",
       "730271       2017-12-20         1800000     E3       Residence   \n",
       "904364       2018-08-20         3000000     E4      Commercial   \n",
       "1262057      2020-09-17         1700000     E3       Residence   \n",
       "1387757      2021-03-25         1700000     E4       Residence   \n",
       "1443905      2021-06-09         1900000     E4       Residence   \n",
       "1496498      2021-08-20         4600000     E4      Commercial   \n",
       "\n",
       "         Strata lot number  \n",
       "358492                 NaN  \n",
       "477643                 NaN  \n",
       "730271                 NaN  \n",
       "904364                 NaN  \n",
       "1262057                NaN  \n",
       "1387757                NaN  \n",
       "1443905                NaN  \n",
       "1496498                NaN  "
      ]
     },
     "metadata": {}
    },
    {
     "output_type": "stream",
     "name": "stdout",
     "text": [
      "Removed 8 outliers (more than 2 standard deviations from the mean).\n"
     ]
    }
   ],
   "metadata": {}
  },
  {
   "cell_type": "code",
   "execution_count": null,
   "source": [
    "#Price histogram in ~$50K bins (entire dataset vs last 12 months)\r\n",
    "\r\n",
    "fig = px.histogram(df_myarea, x=\"Purchase price\", nbins=int(df_myarea['Purchase price'].max()/50000),\r\n",
    "    title='Price histogram - entire dataset', width=1000, height=300,\r\n",
    ")\r\n",
    "\r\n",
    "df_myarea_12m = df_myarea[ (df_myarea['Contract date'] > '2020-10-01') & (df_myarea['Contract date'] < date.today().strftime(\"%Y-%m-%d\"))]\r\n",
    "fig2 = px.histogram(df_myarea_12m, x=\"Purchase price\", nbins=int(df_myarea['Purchase price'].max()/50000),\r\n",
    "    title='Price histogram - last 12 months', width=1000, height=300,\r\n",
    ")\r\n",
    "\r\n",
    "fig.show()\r\n",
    "fig2.show()\r\n"
   ],
   "outputs": [],
   "metadata": {}
  },
  {
   "cell_type": "code",
   "execution_count": null,
   "source": [
    "#Price by size and contract date\r\n",
    "\r\n",
    "#Scale property size so the dots don't get too small\r\n",
    "median = statistics.median(df_myarea['Area'])\r\n",
    "df_myarea['Area - scaled'] = [(x - median) / 15 + median for x in df_myarea['Area']]\r\n",
    "\r\n",
    "fig = px.scatter(\r\n",
    "    df_myarea,\r\n",
    "    x='Contract date',\r\n",
    "    y='Purchase price',    \r\n",
    "    size='Area - scaled',\r\n",
    "    color='Zoning',\r\n",
    "    title='Price and size of property by contract date',\r\n",
    "    width=1000,\r\n",
    "    height=500,\r\n",
    "    labels={'x':'Contract date'},\r\n",
    "    hover_name=df_myarea['Property house number'] + ' ' + df_myarea['Property street name'] + ', ' + df_myarea['Property locality'],\r\n",
    "    hover_data={\r\n",
    "        'Area - scaled':False,\r\n",
    "        'Zoning':True,\r\n",
    "        'Area':True\r\n",
    "    }\r\n",
    ")\r\n",
    "\r\n",
    "fig.show()"
   ],
   "outputs": [],
   "metadata": {}
  },
  {
   "cell_type": "code",
   "execution_count": null,
   "source": [
    "#Price by contract date\r\n",
    "\r\n",
    "fig = px.scatter(\r\n",
    "    df_myarea,\r\n",
    "    x='Contract date',\r\n",
    "    y='Purchase price',    \r\n",
    "    title='Sale price over time',\r\n",
    "    trendline='rolling',\r\n",
    "    trendline_options=dict(window=45),    \r\n",
    "    trendline_color_override=\"red\",\r\n",
    "    width=1000,\r\n",
    "    height=500,\r\n",
    "    labels={'x':'Contract date'},\r\n",
    "    hover_name=df_myarea['Property house number'] + ' ' + df_myarea['Property street name'] + ', ' + df_myarea['Property locality'],\r\n",
    "    hover_data={\r\n",
    "        'Area - scaled':False,\r\n",
    "        'Zoning':True,\r\n",
    "        'Area':True\r\n",
    "    }\r\n",
    ")\r\n",
    "\r\n",
    "fig.show()"
   ],
   "outputs": [],
   "metadata": {}
  },
  {
   "cell_type": "code",
   "execution_count": null,
   "source": [
    "#Median price by contract date\r\n",
    "\r\n",
    "df_myarea_agg=df_myarea[['Contract date','Purchase price']]\r\n",
    "df_myarea_agg=df_myarea_agg.groupby(['Contract date']).median()\r\n",
    "\r\n",
    "fig = px.scatter(\r\n",
    "    df_myarea_agg,\r\n",
    "    x=df_myarea_agg.index.values,\r\n",
    "    y='Purchase price',    \r\n",
    "    title='Daily median price',\r\n",
    "    width=1000,\r\n",
    "    height=500,\r\n",
    "    labels={'x':'Contract date'},\r\n",
    ")\r\n",
    "\r\n",
    "fig.show()"
   ],
   "outputs": [],
   "metadata": {}
  },
  {
   "cell_type": "code",
   "execution_count": null,
   "source": [
    "#Monthly median price\r\n",
    "\r\n",
    "df_myarea_aggM = df_myarea[['Contract date', 'Purchase price']]\r\n",
    "\r\n",
    "df_myarea_aggM = df_myarea_aggM.groupby([pd.Grouper(key='Contract date', freq='M')]).agg('median')\r\n",
    "df_myarea_aggM.reindex()\r\n",
    "\r\n",
    "fig = px.scatter(\r\n",
    "    df_myarea_aggM,\r\n",
    "    x=df_myarea_aggM.index.values,\r\n",
    "    y='Purchase price',    \r\n",
    "    title='Monthly median price',\r\n",
    "    width=1000,\r\n",
    "    height=500,\r\n",
    "    labels={'x':'Contract date'},\r\n",
    ")\r\n",
    "\r\n",
    "fig.show()"
   ],
   "outputs": [],
   "metadata": {}
  },
  {
   "cell_type": "code",
   "execution_count": null,
   "source": [
    "#Monthly median price\r\n",
    "\r\n",
    "df_myarea_aggM = df_myarea[['Contract date', 'Purchase price']]\r\n",
    "df_myarea_aggM = df_myarea_aggM.groupby([pd.Grouper(key='Contract date', freq='M')]).agg('median')\r\n",
    "\r\n",
    "df_myarea_aggM['Rolling 6-month average'] = df_myarea_aggM.rolling(6).mean()\r\n",
    "\r\n",
    "px.line(\r\n",
    "    df_myarea_aggM,\r\n",
    "    title='Monthly median purchase price'\r\n",
    ")"
   ],
   "outputs": [],
   "metadata": {}
  }
 ],
 "metadata": {
  "kernelspec": {
   "name": "python3",
   "display_name": "Python 3.9.4 64-bit ('venv': venv)"
  },
  "language_info": {
   "codemirror_mode": {
    "name": "ipython",
    "version": 3
   },
   "file_extension": ".py",
   "mimetype": "text/x-python",
   "name": "python",
   "nbconvert_exporter": "python",
   "pygments_lexer": "ipython3",
   "version": "3.9.4"
  },
  "metadata": {
   "interpreter": {
    "hash": "7afa73aed43ad1fe0d6d077fa40b975ff8567898073eff3c48bcd95434967e0e"
   }
  },
  "orig_nbformat": 2,
  "interpreter": {
   "hash": "7afa73aed43ad1fe0d6d077fa40b975ff8567898073eff3c48bcd95434967e0e"
  }
 },
 "nbformat": 4,
 "nbformat_minor": 2
}