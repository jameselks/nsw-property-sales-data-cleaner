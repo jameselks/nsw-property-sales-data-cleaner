{
 "cells": [
  {
   "cell_type": "code",
   "execution_count": null,
   "metadata": {},
   "outputs": [],
   "source": [
    "import numpy as np\r\n",
    "import pandas as pd\r\n",
    "from scipy import stats\r\n",
    "import matplotlib.pyplot as plt\r\n",
    "#import pandas_profiling\r\n",
    "#from pandas_profiling import ProfileReport\r\n",
    "import plotly.express as px\r\n",
    "import statistics\r\n",
    "\r\n",
    "from datetime import datetime"
   ]
  },
  {
   "cell_type": "code",
   "execution_count": null,
   "metadata": {},
   "outputs": [],
   "source": [
    "#Read the data into a data frame\n",
    "df = pd.read_csv(\"extract-3-very-clean.csv\")"
   ]
  },
  {
   "cell_type": "code",
   "execution_count": null,
   "metadata": {},
   "outputs": [],
   "source": [
    "#See how many records are included\n",
    "df.size"
   ]
  },
  {
   "cell_type": "code",
   "execution_count": null,
   "metadata": {},
   "outputs": [],
   "source": [
    "df['Contract date']= pd.to_datetime(df['Contract date'])\n",
    "df['Settlement date']= pd.to_datetime(df['Settlement date'])"
   ]
  },
  {
   "cell_type": "code",
   "execution_count": null,
   "metadata": {},
   "outputs": [],
   "source": [
    "#Check types are okay\n",
    "df.dtypes"
   ]
  },
  {
   "cell_type": "code",
   "execution_count": null,
   "metadata": {},
   "outputs": [],
   "source": [
    "# Create a list of property locations, postcodes and minimum areas you want to search for (could obvs filter by whatever, but this is my search area)\r\n",
    "\r\n",
    "property_locations = ['Faulconbridge']\r\n",
    "#property_locations = ['Lawson','Hazelbrook','Woodford','Linden','Faulconbridge','Springwood','Valley Heights','Warrimoo', 'Blaxland', 'Glenbrook']\r\n",
    "#property_locations = ['Linden','Faulconbridge','Springwood']\r\n",
    "\r\n",
    "exclude_zoning = ['IN1', 'IN2', 'I']\r\n",
    "postcode_min = 2750\r\n",
    "postcode_max = 2800\r\n",
    "area_min = 1000\r\n",
    "\r\n",
    "df_myarea = df\r\n",
    "df_myarea = df_myarea[ df_myarea['Property locality'].isin(property_locations) ]\r\n",
    "df_myarea = df_myarea[ df_myarea['Area'] > area_min ]\r\n",
    "df_myarea = df_myarea[ (df_myarea['Property post code'] >= postcode_min) & (df_myarea['Property post code'] <= postcode_max) ]\r\n",
    "df_myarea = df_myarea[ ~df_myarea['Zoning'].isin(exclude_zoning) ]\r\n",
    "#df_myarea = df_myarea[ df_myarea['Primary purpose'] == 'Vacant land' ]\r\n",
    "\r\n",
    "print(str(len(df_myarea.index)) + ' records kept')"
   ]
  },
  {
   "cell_type": "code",
   "execution_count": null,
   "metadata": {},
   "outputs": [],
   "source": [
    "#Show zoning types in the dataset\n",
    "df_myarea['Zoning'].unique()"
   ]
  },
  {
   "cell_type": "code",
   "execution_count": null,
   "metadata": {},
   "outputs": [],
   "source": [
    "#Fix NaNs\n",
    "df_myarea['Zoning'].fillna(value='None', inplace=True)"
   ]
  },
  {
   "cell_type": "code",
   "execution_count": null,
   "metadata": {},
   "outputs": [],
   "source": [
    "#Remove purchase price outliers\n",
    "before=len(df_myarea.index)\n",
    "df_myarea = df_myarea[(np.abs(stats.zscore(df_myarea['Purchase price'])) < 3)]\n",
    "after=len(df_myarea.index)\n",
    "print(str(before-after) + ' records removed')"
   ]
  },
  {
   "cell_type": "code",
   "execution_count": null,
   "metadata": {},
   "outputs": [],
   "source": [
    "#Price histogram in ~$50K bins\n",
    "\n",
    "fig = px.histogram(df_myarea, x=\"Purchase price\", nbins=int(df_myarea['Purchase price'].max()/50000),\n",
    "    title='Price histogram', width=1000, height=400,\n",
    ")\n",
    "fig.show()\n"
   ]
  },
  {
   "cell_type": "code",
   "execution_count": null,
   "metadata": {},
   "outputs": [],
   "source": [
    "#Price by size and contract date\n",
    "\n",
    "#Scale property size so the dots don't get too small\n",
    "median = statistics.median(df_myarea['Area'])\n",
    "df_myarea['Area - scaled'] = [(x - median) / 15 + median for x in df_myarea['Area']]\n",
    "\n",
    "fig = px.scatter(\n",
    "    df_myarea,\n",
    "    x='Contract date',\n",
    "    y='Purchase price',    \n",
    "    size='Area - scaled',\n",
    "    color='Zoning',\n",
    "    title='Price and size of property by contract date',\n",
    "    width=1000,\n",
    "    height=500,\n",
    "    labels={'x':'Contract date'},\n",
    "    hover_name=df_myarea['Property house number'] + ' ' + df_myarea['Property street name'] + ', ' + df_myarea['Property locality'],\n",
    "    hover_data={\n",
    "        'Area - scaled':False,\n",
    "        'Zoning':True,\n",
    "        'Area':True\n",
    "    }\n",
    ")\n",
    "\n",
    "fig.show()"
   ]
  },
  {
   "cell_type": "code",
   "execution_count": null,
   "metadata": {},
   "outputs": [],
   "source": [
    "#Price by contract date\n",
    "\n",
    "fig = px.scatter(\n",
    "    df_myarea,\n",
    "    x='Contract date',\n",
    "    y='Purchase price',    \n",
    "    title='Price and size of property by contract date',\n",
    "    trendline='lowess',\n",
    "    width=1000,\n",
    "    height=500,\n",
    "    labels={'x':'Contract date'},\n",
    "    hover_name=df_myarea['Property house number'] + ' ' + df_myarea['Property street name'] + ', ' + df_myarea['Property locality'],\n",
    "    hover_data={\n",
    "        'Area - scaled':False,\n",
    "        'Zoning':True,\n",
    "        'Area':True\n",
    "    }\n",
    ")\n",
    "\n",
    "fig.show()"
   ]
  },
  {
   "cell_type": "code",
   "execution_count": null,
   "metadata": {},
   "outputs": [],
   "source": [
    "#Median price by contract date\n",
    "\n",
    "df_myarea_agg=df_myarea[['Contract date','Purchase price']]\n",
    "df_myarea_agg=df_myarea_agg.groupby(['Contract date']).median()\n",
    "\n",
    "fig = px.scatter(\n",
    "    df_myarea_agg,\n",
    "    x=df_myarea_agg.index.values,\n",
    "    y='Purchase price',    \n",
    "    title='Median price of properties per day',\n",
    "    width=1000,\n",
    "    height=500,\n",
    "    trendline='lowess',\n",
    "    labels={'x':'Contract date'},\n",
    ")\n",
    "\n",
    "fig.show()"
   ]
  }
 ],
 "metadata": {
  "kernelspec": {
   "display_name": "Python 3.9.4 64-bit ('venv': venv)",
   "name": "python394jvsc74a57bd07afa73aed43ad1fe0d6d077fa40b975ff8567898073eff3c48bcd95434967e0e"
  },
  "language_info": {
   "codemirror_mode": {
    "name": "ipython",
    "version": 3
   },
   "file_extension": ".py",
   "mimetype": "text/x-python",
   "name": "python",
   "nbconvert_exporter": "python",
   "pygments_lexer": "ipython3",
   "version": "3.9.4"
  },
  "metadata": {
   "interpreter": {
    "hash": "7afa73aed43ad1fe0d6d077fa40b975ff8567898073eff3c48bcd95434967e0e"
   }
  },
  "orig_nbformat": 2
 },
 "nbformat": 4,
 "nbformat_minor": 2
}