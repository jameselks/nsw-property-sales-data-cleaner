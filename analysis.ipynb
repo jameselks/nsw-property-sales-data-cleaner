{
 "cells": [
  {
   "cell_type": "code",
   "execution_count": null,
   "metadata": {},
   "outputs": [],
   "source": [
    "import numpy as np\n",
    "import pandas as pd\n",
    "from scipy import stats\n",
    "import matplotlib.pyplot as plt\n",
    "import plotly.express as px\n",
    "import statistics\n",
    "from datetime import datetime, date, timedelta"
   ]
  },
  {
   "cell_type": "code",
   "execution_count": null,
   "metadata": {},
   "outputs": [],
   "source": [
    "#Read the data into a data frame\n",
    "df = pd.read_csv(\"extract-3-very-clean.csv\")"
   ]
  },
  {
   "cell_type": "code",
   "execution_count": null,
   "metadata": {},
   "outputs": [],
   "source": [
    "#See how many records are included\n",
    "df.size"
   ]
  },
  {
   "cell_type": "code",
   "execution_count": null,
   "metadata": {},
   "outputs": [],
   "source": [
    "#Change date fields to datetime type\n",
    "df['Contract date']= pd.to_datetime(df['Contract date'])\n",
    "df['Settlement date']= pd.to_datetime(df['Settlement date'])\n",
    "\n",
    "#Then check types are okay\n",
    "df.dtypes"
   ]
  },
  {
   "cell_type": "code",
   "execution_count": null,
   "metadata": {},
   "outputs": [],
   "source": [
    "#Filter the dataset to your own search area\n",
    "#(could obvs filter by whatever, but this is my search area)\n",
    "\n",
    "property_locations = ['Lawson','Hazelbrook','Woodford','Linden','Faulconbridge','Springwood','Valley Heights','Warrimoo']\n",
    "property_streetname = None #e.g.: ['Railway Ave']\n",
    "exclude_zoning = ['IN1', 'IN2', 'I', 'B', 'B1', 'B2', 'B7']\n",
    "exclude_primary_purpose = ['Service stations', 'Service stati', 'Service statio', 'Shop', 'Hall', 'Commercial']\n",
    "include_only_primary_purpose = None #e.g.: ['Vacant land']\n",
    "postcode_min = 2750\n",
    "postcode_max = 2800\n",
    "area_min = 500\n",
    "area_max = None\n",
    "start_date = '2016-01-01'\n",
    "end_date = '2100-01-01'\n",
    "\n",
    "#Go ahead and implement all of the above filters\n",
    "df_myarea = df\n",
    "if property_locations: df_myarea = df_myarea[ df_myarea['Property locality'].isin(property_locations) ] #In location specified\n",
    "if property_streetname: df_myarea = df_myarea[ df_myarea['Property street name'].isin(property_streetname) ] #In street name exactly specified\n",
    "if area_min: df_myarea = df_myarea[ df_myarea['Area'] >= area_min ] #More than minimum area size\n",
    "if area_max: df_myarea = df_myarea[ df_myarea['Area'] <= area_max ] #Less than maximum area size\n",
    "if postcode_min: df_myarea = df_myarea[ df_myarea['Property post code'] >= postcode_min ] #In postcode range\n",
    "if postcode_max: df_myarea = df_myarea[ df_myarea['Property post code'] <= postcode_max ] #In postcode range\n",
    "if exclude_zoning: df_myarea = df_myarea[ ~df_myarea['Zoning'].isin(exclude_zoning) ] #Exclude weird zoning types\n",
    "if start_date: df_myarea = df_myarea[ df_myarea['Contract date'] >= start_date] #Make sure all values are in the correct date range\n",
    "if end_date: df_myarea = df_myarea[ df_myarea['Contract date'] <= end_date] #Make sure all values are in the correct date range\n",
    "if exclude_primary_purpose: df_myarea = df_myarea[ ~df_myarea['Primary purpose'].isin(exclude_primary_purpose) ] #Exclude weird zoning types\n",
    "if include_only_primary_purpose: df_myarea = df_myarea[ df_myarea['Primary purpose'].isin(include_only_primary_purpose) ] #Include only these zoning types\n",
    "\n",
    "print(str(len(df_myarea.index)) + ' records kept')"
   ]
  },
  {
   "cell_type": "code",
   "execution_count": null,
   "metadata": {},
   "outputs": [],
   "source": [
    "#Show zoning and purpose types in the dataset\n",
    "#Types: https://www.valuergeneral.nsw.gov.au/__data/assets/pdf_file/0019/216406/Property_Sales_Data_File_Zone_Codes_and_Descriptions_V2.pdf\n",
    "\n",
    "display(df_myarea['Primary purpose'].unique())\n",
    "display(df_myarea['Zoning'].unique())"
   ]
  },
  {
   "cell_type": "code",
   "execution_count": null,
   "metadata": {},
   "outputs": [],
   "source": [
    "#Fix NaNs\n",
    "df_myarea['Zoning'].fillna(value='None', inplace=True)\n",
    "df_myarea['Area'].fillna(value=0, inplace=True)"
   ]
  },
  {
   "cell_type": "code",
   "execution_count": null,
   "metadata": {},
   "outputs": [],
   "source": [
    "#Remove purchase price outliers\n",
    "\n",
    "before=len(df_myarea.index)\n",
    "\n",
    "#Display the outliers\n",
    "display(df_myarea[(np.abs(stats.zscore(df_myarea['Purchase price'])) >= 5)])\n",
    "\n",
    "#Remove them from the data\n",
    "#df_myarea = df_myarea[(np.abs(stats.zscore(df_myarea['Purchase price'])) < 3)]\n",
    "\n",
    "after=len(df_myarea.index)\n",
    "print('Removed ' + str(before-after) + ' outliers (more than 5 standard deviations from the mean).')"
   ]
  },
  {
   "cell_type": "code",
   "execution_count": null,
   "metadata": {},
   "outputs": [],
   "source": [
    "#Price histogram in ~$50K bins\n",
    "fig = px.histogram(df_myarea, x=\"Purchase price\", nbins=int(df_myarea['Purchase price'].max()/50000),\n",
    "    title='Price histogram', width=1000, height=400,\n",
    ")\n",
    "fig.show()\n"
   ]
  },
  {
   "cell_type": "code",
   "execution_count": null,
   "metadata": {},
   "outputs": [],
   "source": [
    "#Display all the records.\n",
    "display(df_myarea)"
   ]
  },
  {
   "cell_type": "code",
   "execution_count": null,
   "metadata": {},
   "outputs": [],
   "source": [
    "#Price by size and contract date\n",
    "\n",
    "#Scale property size so the dots don't get too small\n",
    "median = statistics.median(df_myarea['Area'])\n",
    "df_myarea['Area - scaled'] = [(x - median) / 15 + median for x in df_myarea['Area']]\n",
    "\n",
    "fig = px.scatter(\n",
    "    df_myarea,\n",
    "    x='Contract date',\n",
    "    y='Purchase price',    \n",
    "    size='Area - scaled',\n",
    "    color='Zoning',\n",
    "    title='Price and size of property by contract date',\n",
    "    width=1000,\n",
    "    height=500,\n",
    "    labels={'x':'Contract date'},\n",
    "    hover_name=df_myarea['Property house number'] + ' ' + df_myarea['Property street name'] + ', ' + df_myarea['Property locality'],\n",
    "    hover_data={\n",
    "        'Area - scaled':False,\n",
    "        'Zoning':True,\n",
    "        'Area':True\n",
    "    }\n",
    ")\n",
    "\n",
    "fig.show()"
   ]
  },
  {
   "cell_type": "code",
   "execution_count": null,
   "metadata": {},
   "outputs": [],
   "source": [
    "#Price by contract date\n",
    "\n",
    "fig = px.scatter(\n",
    "    df_myarea,\n",
    "    x='Contract date',\n",
    "    y='Purchase price',    \n",
    "    title='Price over time',\n",
    "    trendline='rolling',\n",
    "    #trendline_options=dict(window=45),    \n",
    "    trendline_color_override=\"red\",\n",
    "    width=1000,\n",
    "    height=500,\n",
    "    labels={'x':'Contract date'},\n",
    "    hover_name=df_myarea['Property house number'] + ' ' + df_myarea['Property street name'] + ', ' + df_myarea['Property locality'],\n",
    "    hover_data={\n",
    "        'Area - scaled':False,\n",
    "        'Zoning':True,\n",
    "        'Area':True\n",
    "    }\n",
    ")\n",
    "\n",
    "fig.show()"
   ]
  },
  {
   "cell_type": "code",
   "execution_count": null,
   "metadata": {},
   "outputs": [],
   "source": [
    "#Median price by contract date\n",
    "\n",
    "df_myarea_agg=df_myarea[['Contract date','Purchase price']]\n",
    "df_myarea_agg=df_myarea_agg.groupby(['Contract date']).median()\n",
    "#This is the same as above:\n",
    "##df_myarea_agg=df_myarea_agg.groupby(([pd.Grouper(key='Contract date', freq='D')])).median()\n",
    "\n",
    "fig = px.scatter(\n",
    "    df_myarea_agg,\n",
    "    x=df_myarea_agg.index.values,\n",
    "    y='Purchase price',    \n",
    "    title='Median price by date',\n",
    "    width=1000,\n",
    "    height=500,\n",
    "    labels={'x':'Contract date'},\n",
    ")\n",
    "\n",
    "fig.show()"
   ]
  },
  {
   "cell_type": "code",
   "execution_count": null,
   "metadata": {},
   "outputs": [],
   "source": [
    "#Get last downloaded file date and set variable 90 days before that\n",
    "d = datetime.now()\n",
    "offset = -datetime.now().weekday() - 7 - 90\n",
    "this_date = (datetime.now() + timedelta(offset))\n",
    "print(this_date)"
   ]
  },
  {
   "cell_type": "code",
   "execution_count": null,
   "metadata": {},
   "outputs": [],
   "source": [
    "#Monthly median price\n",
    "\n",
    "df_myarea_aggM = df_myarea[['Contract date', 'Purchase price']]\n",
    "df_myarea_aggM = df_myarea_aggM.groupby([pd.Grouper(key='Contract date', freq='M')]).agg('median')\n",
    "\n",
    "df_myarea_aggM['Rolling 6-month median'] = df_myarea_aggM.rolling(6).median()\n",
    "\n",
    "#Could also do this if we wanted to show multiple types - e.g. mean, sum, etc\n",
    "#g1 = df_myarea_m.groupby(pd.Grouper(key='Contract date', freq=\"M\")).median()\n",
    "#g2 = df_myarea_m.groupby(pd.Grouper(key='Contract date', freq=\"M\")).mean()\n",
    "#g = g1.merge(g2, left_on='Contract date', right_on='Contract date', suffixes=(' median', ' mean'))\n",
    "\n",
    "fig = px.line(\n",
    "    df_myarea_aggM,\n",
    "    title='Monthly median purchase price',\n",
    "    width=1000,\n",
    "    height=500\n",
    ")\n",
    "\n",
    "fig.add_vline(x=this_date, line_width=2, line_dash=\"dot\", line_color=\"green\")\n",
    "fig.show()"
   ]
  },
  {
   "cell_type": "code",
   "execution_count": null,
   "metadata": {},
   "outputs": [],
   "source": [
    "#Sales volume by month\n",
    "\n",
    "latest_date = df_myarea['Contract date'].max() - timedelta(days=90)\n",
    "\n",
    "df_myarea_aggMc = df_myarea[['Contract date', 'Purchase price']]\n",
    "df_myarea_aggMc = df_myarea_aggMc.groupby([pd.Grouper(key='Contract date', freq='M')]).agg('count')\n",
    "df_myarea_aggMc.rename(columns={'Purchase price':'Number of sales'}, inplace=True)\n",
    "df_myarea_aggMc['Rolling 6-month median'] = df_myarea_aggMc.rolling(6).median()\n",
    "\n",
    "\n",
    "fig = px.line(\n",
    "    df_myarea_aggMc,\n",
    "    title='Sales volume by month',\n",
    "    width=1000,\n",
    "    height=500\n",
    ")\n",
    "\n",
    "fig.add_vline(x=this_date, line_width=2, line_dash=\"dot\", line_color=\"green\")\n",
    "fig.show()"
   ]
  }
 ],
 "metadata": {
  "kernelspec": {
   "display_name": "Python 3.8.6 ('venv': venv)",
   "language": "python",
   "name": "python3"
  },
  "language_info": {
   "codemirror_mode": {
    "name": "ipython",
    "version": 3
   },
   "file_extension": ".py",
   "mimetype": "text/x-python",
   "name": "python",
   "nbconvert_exporter": "python",
   "pygments_lexer": "ipython3",
   "version": "3.8.6"
  },
  "metadata": {
   "interpreter": {
    "hash": "7afa73aed43ad1fe0d6d077fa40b975ff8567898073eff3c48bcd95434967e0e"
   }
  },
  "orig_nbformat": 2,
  "vscode": {
   "interpreter": {
    "hash": "b1a9ac1ceecd0aaa22a11b8bbe5f85abfc7a4963469b0ed75353c087d760edc8"
   }
  }
 },
 "nbformat": 4,
 "nbformat_minor": 2
}
