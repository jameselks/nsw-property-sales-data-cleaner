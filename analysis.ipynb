{
 "cells": [
  {
   "cell_type": "code",
   "execution_count": null,
   "source": [
    "import numpy as np\r\n",
    "import pandas as pd\r\n",
    "from scipy import stats\r\n",
    "import matplotlib.pyplot as plt\r\n",
    "import plotly.express as px\r\n",
    "import statistics\r\n",
    "from datetime import datetime\r\n",
    "from datetime import date"
   ],
   "outputs": [],
   "metadata": {}
  },
  {
   "cell_type": "code",
   "execution_count": null,
   "source": [
    "#Read the data into a data frame\r\n",
    "df = pd.read_csv(\"extract-3-very-clean.csv\")"
   ],
   "outputs": [],
   "metadata": {}
  },
  {
   "cell_type": "code",
   "execution_count": null,
   "source": [
    "#See how many records are included\r\n",
    "df.size"
   ],
   "outputs": [],
   "metadata": {}
  },
  {
   "cell_type": "code",
   "execution_count": null,
   "source": [
    "df['Contract date']= pd.to_datetime(df['Contract date'])\r\n",
    "df['Settlement date']= pd.to_datetime(df['Settlement date'])"
   ],
   "outputs": [],
   "metadata": {}
  },
  {
   "cell_type": "code",
   "execution_count": null,
   "source": [
    "#Check types are okay\r\n",
    "df.dtypes"
   ],
   "outputs": [],
   "metadata": {}
  },
  {
   "cell_type": "code",
   "execution_count": null,
   "source": [
    "# Create a list of property locations, postcodes and minimum areas you want to search for (could obvs filter by whatever, but this is my search area)\r\n",
    "\r\n",
    "property_locations = ['Lawson','Hazelbrook','Woodford','Linden','Faulconbridge','Springwood','Valley Heights','Warrimoo']\r\n",
    "exclude_zoning = ['IN1', 'IN2', 'I', 'B', 'B1', 'B2', 'B7']\r\n",
    "postcode_min = 2750\r\n",
    "postcode_max = 2800\r\n",
    "area_min = 500\r\n",
    "start_date = '2015-01-01'\r\n",
    "end_date = '2100-01-01'\r\n",
    "\r\n",
    "df_myarea = df\r\n",
    "df_myarea = df_myarea[ df_myarea['Property locality'].isin(property_locations) ] #In location specified\r\n",
    "df_myarea = df_myarea[ df_myarea['Area'] > area_min ] #More than minimum area size\r\n",
    "df_myarea = df_myarea[ (df_myarea['Property post code'] >= postcode_min) & (df_myarea['Property post code'] <= postcode_max) ] #In postcode range\r\n",
    "df_myarea = df_myarea[ ~df_myarea['Zoning'].isin(exclude_zoning) ] #Exclude weird zoning types\r\n",
    "df_myarea = df_myarea[ (df_myarea['Contract date'] > start_date) & (df_myarea['Contract date'] < end_date)] #Make sure all values are in the correct date range\r\n",
    "\r\n",
    "#df_myarea = df_myarea[ df_myarea['Primary purpose'] == 'Vacant land' ]\r\n",
    "\r\n",
    "print(str(len(df_myarea.index)) + ' records kept')"
   ],
   "outputs": [],
   "metadata": {}
  },
  {
   "cell_type": "code",
   "execution_count": null,
   "source": [
    "#Show zoning types in the dataset\r\n",
    "#Types: https://www.valuergeneral.nsw.gov.au/__data/assets/pdf_file/0019/216406/Property_Sales_Data_File_Zone_Codes_and_Descriptions_V2.pdf\r\n",
    "\r\n",
    "df_myarea['Zoning'].unique()"
   ],
   "outputs": [],
   "metadata": {}
  },
  {
   "cell_type": "code",
   "execution_count": null,
   "source": [
    "#Fix NaNs\r\n",
    "\r\n",
    "nans = str(df_myarea['Zoning'].isna().sum()) #See how many NaNs\r\n",
    "df_myarea['Zoning'].fillna(value='None', inplace=True) #Change NaNs to 'None'\r\n",
    "print('Fixed ' + nans + ' NaNs.') #Print the results"
   ],
   "outputs": [],
   "metadata": {}
  },
  {
   "cell_type": "code",
   "execution_count": null,
   "source": [
    "#Remove purchase price outliers\r\n",
    "\r\n",
    "before=len(df_myarea.index)\r\n",
    "df_myarea = df_myarea[(np.abs(stats.zscore(df_myarea['Purchase price'])) < 2)]\r\n",
    "after=len(df_myarea.index)\r\n",
    "print('Removed ' + str(before-after) + ' outliers (more than 2 standard deviations from the mean).')"
   ],
   "outputs": [],
   "metadata": {}
  },
  {
   "cell_type": "code",
   "execution_count": null,
   "source": [
    "#Price histogram in ~$50K bins (entire dataset vs last 12 months)\r\n",
    "\r\n",
    "fig = px.histogram(df_myarea, x=\"Purchase price\", nbins=int(df_myarea['Purchase price'].max()/50000),\r\n",
    "    title='Price histogram - entire dataset', width=1000, height=300,\r\n",
    ")\r\n",
    "\r\n",
    "df_myarea_12m = df_myarea[ (df_myarea['Contract date'] > '2020-10-01') & (df_myarea['Contract date'] < date.today().strftime(\"%Y-%m-%d\"))]\r\n",
    "fig2 = px.histogram(df_myarea_12m, x=\"Purchase price\", nbins=int(df_myarea['Purchase price'].max()/50000),\r\n",
    "    title='Price histogram - last 12 months', width=1000, height=300,\r\n",
    ")\r\n",
    "\r\n",
    "fig.show()\r\n",
    "fig2.show()\r\n"
   ],
   "outputs": [],
   "metadata": {}
  },
  {
   "cell_type": "code",
   "execution_count": null,
   "source": [
    "#Price by size and contract date\r\n",
    "\r\n",
    "#Scale property size so the dots don't get too small\r\n",
    "median = statistics.median(df_myarea['Area'])\r\n",
    "df_myarea['Area - scaled'] = [(x - median) / 15 + median for x in df_myarea['Area']]\r\n",
    "\r\n",
    "fig = px.scatter(\r\n",
    "    df_myarea,\r\n",
    "    x='Contract date',\r\n",
    "    y='Purchase price',    \r\n",
    "    size='Area - scaled',\r\n",
    "    color='Zoning',\r\n",
    "    title='Price and size of property by contract date',\r\n",
    "    width=1000,\r\n",
    "    height=500,\r\n",
    "    labels={'x':'Contract date'},\r\n",
    "    hover_name=df_myarea['Property house number'] + ' ' + df_myarea['Property street name'] + ', ' + df_myarea['Property locality'],\r\n",
    "    hover_data={\r\n",
    "        'Area - scaled':False,\r\n",
    "        'Zoning':True,\r\n",
    "        'Area':True\r\n",
    "    }\r\n",
    ")\r\n",
    "\r\n",
    "fig.show()"
   ],
   "outputs": [],
   "metadata": {}
  },
  {
   "cell_type": "code",
   "execution_count": null,
   "source": [
    "#Price by contract date\r\n",
    "\r\n",
    "fig = px.scatter(\r\n",
    "    df_myarea,\r\n",
    "    x='Contract date',\r\n",
    "    y='Purchase price',    \r\n",
    "    title='Sale price over time',\r\n",
    "    trendline='rolling',\r\n",
    "    trendline_options=dict(window=45),    \r\n",
    "    trendline_color_override=\"red\",\r\n",
    "    width=1000,\r\n",
    "    height=500,\r\n",
    "    labels={'x':'Contract date'},\r\n",
    "    hover_name=df_myarea['Property house number'] + ' ' + df_myarea['Property street name'] + ', ' + df_myarea['Property locality'],\r\n",
    "    hover_data={\r\n",
    "        'Area - scaled':False,\r\n",
    "        'Zoning':True,\r\n",
    "        'Area':True\r\n",
    "    }\r\n",
    ")\r\n",
    "\r\n",
    "fig.show()"
   ],
   "outputs": [],
   "metadata": {}
  },
  {
   "cell_type": "code",
   "execution_count": null,
   "source": [
    "#Median price by contract date\r\n",
    "\r\n",
    "df_myarea_agg=df_myarea[['Contract date','Purchase price']]\r\n",
    "df_myarea_agg=df_myarea_agg.groupby(['Contract date']).median()\r\n",
    "\r\n",
    "fig = px.scatter(\r\n",
    "    df_myarea_agg,\r\n",
    "    x=df_myarea_agg.index.values,\r\n",
    "    y='Purchase price',    \r\n",
    "    title='Daily median price',\r\n",
    "    width=1000,\r\n",
    "    height=500,\r\n",
    "    labels={'x':'Contract date'},\r\n",
    ")\r\n",
    "\r\n",
    "fig.show()"
   ],
   "outputs": [],
   "metadata": {}
  },
  {
   "cell_type": "code",
   "execution_count": null,
   "source": [
    "#Monthly median price\r\n",
    "\r\n",
    "df_myarea_aggM = df_myarea[['Contract date', 'Purchase price']]\r\n",
    "\r\n",
    "df_myarea_aggM = df_myarea_aggM.groupby([pd.Grouper(key='Contract date', freq='M')]).agg('median')\r\n",
    "df_myarea_aggM.reindex()\r\n",
    "\r\n",
    "fig = px.scatter(\r\n",
    "    df_myarea_aggM,\r\n",
    "    x=df_myarea_aggM.index.values,\r\n",
    "    y='Purchase price',    \r\n",
    "    title='Monthly median price',\r\n",
    "    width=1000,\r\n",
    "    height=500,\r\n",
    "    labels={'x':'Contract date'},\r\n",
    ")\r\n",
    "\r\n",
    "fig.show()"
   ],
   "outputs": [],
   "metadata": {}
  },
  {
   "cell_type": "code",
   "execution_count": null,
   "source": [
    "#Monthly median price\r\n",
    "\r\n",
    "df_myarea_aggM = df_myarea[['Contract date', 'Purchase price']]\r\n",
    "df_myarea_aggM = df_myarea_aggM.groupby([pd.Grouper(key='Contract date', freq='M')]).agg('median')\r\n",
    "\r\n",
    "df_myarea_aggM['Rolling 6-month average'] = df_myarea_aggM.rolling(6).mean()\r\n",
    "\r\n",
    "px.line(\r\n",
    "    df_myarea_aggM,\r\n",
    "    title='Monthly median purchase price'\r\n",
    ")"
   ],
   "outputs": [],
   "metadata": {}
  }
 ],
 "metadata": {
  "kernelspec": {
   "name": "python3",
   "display_name": "Python 3.9.4 64-bit ('venv': venv)"
  },
  "language_info": {
   "codemirror_mode": {
    "name": "ipython",
    "version": 3
   },
   "file_extension": ".py",
   "mimetype": "text/x-python",
   "name": "python",
   "nbconvert_exporter": "python",
   "pygments_lexer": "ipython3",
   "version": "3.9.4"
  },
  "metadata": {
   "interpreter": {
    "hash": "7afa73aed43ad1fe0d6d077fa40b975ff8567898073eff3c48bcd95434967e0e"
   }
  },
  "orig_nbformat": 2,
  "interpreter": {
   "hash": "7afa73aed43ad1fe0d6d077fa40b975ff8567898073eff3c48bcd95434967e0e"
  }
 },
 "nbformat": 4,
 "nbformat_minor": 2
}