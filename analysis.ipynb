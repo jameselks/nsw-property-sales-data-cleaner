{
 "metadata": {
  "language_info": {
   "codemirror_mode": {
    "name": "ipython",
    "version": 3
   },
   "file_extension": ".py",
   "mimetype": "text/x-python",
   "name": "python",
   "nbconvert_exporter": "python",
   "pygments_lexer": "ipython3",
   "version": "3.8.6"
  },
  "orig_nbformat": 2,
  "kernelspec": {
   "name": "python386jvsc74a57bd07afa73aed43ad1fe0d6d077fa40b975ff8567898073eff3c48bcd95434967e0e",
   "display_name": "Python 3.8.6 64-bit ('venv': venv)"
  }
 },
 "nbformat": 4,
 "nbformat_minor": 2,
 "cells": [
  {
   "cell_type": "code",
   "execution_count": null,
   "metadata": {},
   "outputs": [],
   "source": [
    "import numpy as np\n",
    "import pandas as pd\n",
    "#%matplotlib inline\n",
    "from scipy import stats\n",
    "import matplotlib.pyplot as plt\n",
    "import pandas_profiling\n",
    "from pandas_profiling import ProfileReport\n",
    "\n",
    "df = pd.read_csv(\"extract-3-very-clean.csv\", index_col=['Contract date'])"
   ]
  },
  {
   "cell_type": "code",
   "execution_count": null,
   "metadata": {},
   "outputs": [],
   "source": [
    "#See how many records are included\n",
    "df.size"
   ]
  },
  {
   "cell_type": "code",
   "execution_count": null,
   "metadata": {},
   "outputs": [],
   "source": [
    "df.index"
   ]
  },
  {
   "cell_type": "code",
   "execution_count": null,
   "metadata": {},
   "outputs": [],
   "source": [
    "#Check types are okay\n",
    "df.dtypes"
   ]
  },
  {
   "cell_type": "code",
   "execution_count": null,
   "metadata": {},
   "outputs": [],
   "source": [
    "# Create a list of property locations, postcodes and minimum areas you want to search for (could obvs filter by whatever, but this is my search area)\n",
    "property_locations = ['Lawson','Hazelbrook','Woodford','Linden','Faulconbridge','Springwood','Valley Heights','Warrimoo', 'Blaxland', 'Glenbrook']\n",
    "postcode_min = 2750\n",
    "postcode_max = 2800\n",
    "area_min = 1000\n",
    "\n",
    "df_myarea = df[(df['Property locality'].isin(property_locations)) & (df['Area'] > area_min) & (df['Property post code'] >= postcode_min) & (df['Property post code'] <= postcode_max) & (df['Primary purpose'] == 'Vacant land')]\n",
    "print(str(len(df_myarea.index)) + ' records kept')"
   ]
  },
  {
   "cell_type": "code",
   "execution_count": null,
   "metadata": {},
   "outputs": [],
   "source": [
    "profile = ProfileReport(df_myarea, title=\"Pandas Profiling Report\")\n",
    "profile"
   ]
  },
  {
   "cell_type": "code",
   "execution_count": null,
   "metadata": {},
   "outputs": [],
   "source": [
    "#Remove purchase price outliers\n",
    "before=len(df_myarea.index)\n",
    "df_myarea = df_myarea[(np.abs(stats.zscore(df_myarea['Purchase price'])) < 3)]\n",
    "after=len(df_myarea.index)\n",
    "print\n",
    "\n",
    "print(str(before-after) + ' records removed')\n"
   ]
  },
  {
   "cell_type": "code",
   "execution_count": null,
   "metadata": {},
   "outputs": [],
   "source": [
    "#Price histogram in ~$50K bins\n",
    "df_myarea.hist(column='Purchase price', bins=int(df_myarea['Purchase price'].max()/50000))"
   ]
  },
  {
   "cell_type": "code",
   "execution_count": null,
   "metadata": {},
   "outputs": [],
   "source": [
    "#Get unique\n",
    "df_myarea['Zoning'].unique()"
   ]
  },
  {
   "cell_type": "code",
   "execution_count": null,
   "metadata": {},
   "outputs": [],
   "source": [
    "#Price by size\n",
    "\n",
    "# Create figure and plot space\n",
    "fig, ax = plt.subplots(figsize=(25, 8))\n",
    "\n",
    "# Add x-axis and y-axis\n",
    "ax.scatter(\n",
    "       x=df_myarea.index.values,\n",
    "       y=df_myarea['Purchase price'],\n",
    "       s=df_myarea['Area']/200\n",
    "       )\n",
    "\n",
    "# Set title and labels for axes\n",
    "ax.set(xlabel=\"Date\",\n",
    "       ylabel=\"Purchase price ($m)\",\n",
    "       title=\"Purchase price by date and size of property\")\n",
    "\n",
    "# Rotate tick marks on x-axis\n",
    "plt.setp(ax.get_xticklabels(), rotation=45)\n",
    "\n",
    "# Reduce number of labels on x-axis\n",
    "every_nth = 6\n",
    "for n, label in enumerate(ax.xaxis.get_ticklabels()):\n",
    "    if n % every_nth != 0:\n",
    "        label.set_visible(False)\n",
    "\n",
    "# Add grid\n",
    "plt.grid( axis = 'y' )\n",
    "\n",
    "plt.show()"
   ]
  },
  {
   "cell_type": "code",
   "execution_count": null,
   "metadata": {},
   "outputs": [],
   "source": [
    "import plotly.express as px\n",
    "import statistics\n",
    "\n",
    "median = statistics.median(df_myarea['Area'])\n",
    "df_myarea['Area - scaled'] = [(x - median) / 10 + median for x in df_myarea['Area']]\n",
    "\n",
    "df_myarea['Zoning']=df_myarea['Zoning'].fillna('None')\n",
    "fig = px.scatter(\n",
    "    df_myarea,\n",
    "    x=df_myarea.index.values,\n",
    "    y='Purchase price',    \n",
    "    size='Area - scaled',\n",
    "    color='Zoning',\n",
    "    title='Price and size of property by purchase date',\n",
    "    width=1000,\n",
    "    height=500,\n",
    "    labels = {'x':'Contract date'},\n",
    "    hover_name=df_myarea['Property house number'] + ' ' + df_myarea['Property street name'] + ', ' + df_myarea['Property locality'],\n",
    "    hover_data={\n",
    "        'Area - scaled':False,\n",
    "        'Zoning':True,\n",
    "        'Area':True\n",
    "        #'Contract date':False\n",
    "    }\n",
    "    #hover_data=[\n",
    "    #    'Purchase price',\n",
    "    #    'Zoning',\n",
    "    #    df_myarea.index.values\n",
    "    #]\n",
    ")\n",
    "fig.show()"
   ]
  },
  {
   "cell_type": "code",
   "execution_count": null,
   "metadata": {},
   "outputs": [],
   "source": [
    "#Price by zoning\n",
    "\n",
    "#Create figure and plot space\n",
    "fig, ax = plt.subplots(figsize=(25, 8))\n",
    "\n",
    "#Loop groups and create a scatter per group\n",
    "for name, group in df_myarea.groupby('Zoning'):\n",
    "    ax.scatter(x=\"Settlement date\", y=\"Purchase price\", data=group, label=name, s=100)\n",
    "\n",
    "ax.legend(title=\"Zoning\")\n",
    "\n",
    "#Set title and labels for axes\n",
    "ax.set(xlabel=\"Date\",\n",
    "       ylabel=\"Purchase price ($m)\",\n",
    "       title=\"Purchase price by zoning\")\n",
    "\n",
    "#Rotate tick marks on x-axis\n",
    "plt.setp(ax.get_xticklabels(), rotation=45)\n",
    "\n",
    "plt.show()"
   ]
  },
  {
   "cell_type": "code",
   "execution_count": null,
   "metadata": {},
   "outputs": [],
   "source": []
  }
 ]
}